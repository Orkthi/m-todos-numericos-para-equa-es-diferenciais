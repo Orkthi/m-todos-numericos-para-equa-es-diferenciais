{
  "nbformat": 4,
  "nbformat_minor": 0,
  "metadata": {
    "colab": {
      "provenance": [],
      "include_colab_link": true
    },
    "kernelspec": {
      "name": "python3",
      "display_name": "Python 3"
    },
    "language_info": {
      "name": "python"
    }
  },
  "cells": [
    {
      "cell_type": "markdown",
      "metadata": {
        "id": "view-in-github",
        "colab_type": "text"
      },
      "source": [
        "<a href=\"https://colab.research.google.com/github/Orkthi/metodos-numericos-para-equacoes-diferenciais/blob/main/difus%C3%A3o_totalmente_implicita.ipynb\" target=\"_parent\"><img src=\"https://colab.research.google.com/assets/colab-badge.svg\" alt=\"Open In Colab\"/></a>"
      ]
    },
    {
      "cell_type": "code",
      "execution_count": 3,
      "metadata": {
        "colab": {
          "base_uri": "https://localhost:8080/",
          "height": 453
        },
        "id": "AtkqFVN1v1_8",
        "outputId": "48069f86-1ab0-4310-93e8-c7253474fa39"
      },
      "outputs": [
        {
          "output_type": "display_data",
          "data": {
            "text/plain": [
              "<Figure size 640x480 with 1 Axes>"
            ],
            "image/png": "[encoded data removed]"
          },
          "metadata": {}
        }
      ],
      "source": [
        "# Importando bibliotecas\n",
        "import matplotlib.pyplot as plt\n",
        "import numpy as np\n",
        "\n",
        "# Número de nós\n",
        "N = 300\n",
        "\n",
        "# Condições de contorno\n",
        "Ce = 1\n",
        "\n",
        "# Constantes do sistema\n",
        "D = 40\n",
        "k1 = 1\n",
        "k2 = 1\n",
        "L = 1\n",
        "Lf = 2\n",
        "Lt = L + Lf\n",
        "dx = Lt/N\n",
        "\n",
        "s = D/(dx**2)\n",
        "\n",
        "# Criando a matriz do sistema\n",
        "M = np.zeros(shape=(N-2, N-2))\n",
        "\n",
        "# Criando o vetor de variáveis do sistema\n",
        "C = np.zeros(shape=(N,))\n",
        "\n",
        "# Criando o vetor dos resultados do sistema\n",
        "R = np.zeros(shape=(N-2,))\n",
        "\n",
        "# Criando a matriz de posições\n",
        "X = np.zeros(shape=(N))\n",
        "\n",
        "# Criando o vetor de coeficientes k (k varia no espaço)\n",
        "K = np.zeros(shape=(N-2))\n",
        "\n",
        "# Preenchendo os valores de k\n",
        "Nk1 = int(L/Lt * (N))\n",
        "for i in range(Nk1):\n",
        "    K[i] = k1\n",
        "\n",
        "for i in range(Nk1, N-2):\n",
        "    K[i] = k2\n",
        "\n",
        "# Preenchendo a matriz do sistema\n",
        "# Diagonal principal do sistema\n",
        "for i in range(N - 3):\n",
        "    #M[i][i] = -(2*D/(dx**2) + K[i])\n",
        "    M[i][i] = -(2*s + K[i])\n",
        "\n",
        "M[N-3][N-3] = -(s + K[N-3])\n",
        "\n",
        "# Diagonais paralelas à diag. principal do sistema\n",
        "for i in range(N-3):\n",
        "    M[i+1][i] = s #D/(dx**2)\n",
        "    M[i][i+1] = s #D/(dx**2)\n",
        "\n",
        "# Preenchendo os resultados do sistema\n",
        "R[0] = -s*Ce\n",
        "\n",
        "# Guardando os valores das condições de contorno nas matrizes\n",
        "C[0] = Ce\n",
        "\n",
        "# Preenchendo os valores das posições\n",
        "for i in range(N):\n",
        "    X[i] = i*dx\n",
        "\n",
        "# OBS.: Apagar... essa função só printa a matriz ou vetor\n",
        "def PrintMat(M):\n",
        "    for i in M:\n",
        "        try:\n",
        "            for j in i:\n",
        "                print(f\"{j} \", end=\"\")\n",
        "            print()\n",
        "        except:\n",
        "            print(f\"{i} \")\n",
        "\n",
        "    return\n",
        "\n",
        "def gauss_jacobi(A, b, epsilon=0.001, max_iter=10000):\n",
        "    # Inicializando as variáveis\n",
        "    n = len(A)\n",
        "    x_old = np.zeros(n)  # Vetor inicial de chutes (inicializado com zeros)\n",
        "    x_new = np.zeros(n)  # Vetor para armazenar as atualizações\n",
        "\n",
        "    # Critério de parada: máximo de iterações ou erro menor que epsilon\n",
        "    for iteration in range(max_iter):\n",
        "        #print(f\"Iteração {iteration+1}:\")\n",
        "        for i in range(n):\n",
        "            # Calcula a nova estimativa para a variável\n",
        "            sum_terms = sum(A[i][j] * x_old[j] for j in range(n) if j != i)\n",
        "            x_new[i] = (b[i] - sum_terms) / A[i][i]\n",
        "\n",
        "        # Printa os valores das variáveis a cada iteração\n",
        "        for k in range(n):\n",
        "            print(f\"x{k+1} = {x_new[k]}\")\n",
        "\n",
        "        # Verifica o critério de parada (erro)\n",
        "        if np.linalg.norm(x_new - x_old) < epsilon:\n",
        "            print(\"\\nConvergência alcançada!\")\n",
        "            return x_new\n",
        "\n",
        "        # Atualiza o vetor para a próxima iteração\n",
        "        x_old = np.copy(x_new)\n",
        "        #print(\"-------------------------------\")\n",
        "\n",
        "    print(\"Número máximo de iterações alcançado.\")\n",
        "    return x_new\n",
        "\n",
        "def main():\n",
        "\n",
        "    # Resolve o sistema com gauss_jacobi\n",
        "    C[1:-1] = np.linalg.solve(M, R) #gauss_jacobi(M,R)\n",
        "\n",
        "    # condição de contorno dC/dx = 0 no último ponto\n",
        "    C[-1] = C[-2]\n",
        "\n",
        "    # Plotando o gráfico e deixando bonitinho :)\n",
        "    plt.plot(X, C)\n",
        "    plt.xlabel(\"Comprimento x [m]\")\n",
        "    plt.ylabel(\"Concentração [g Mol/L]\")\n",
        "    plt.xlim(0, Lt)\n",
        "    plt.ylim(0, None)\n",
        "    plt.show()\n",
        "\n",
        "main()"
      ]
    },
    {
      "cell_type": "code",
      "source": [
        "asd = float(input(\"Digite um valor: \"))"
      ],
      "metadata": {
        "colab": {
          "base_uri": "https://localhost:8080/"
        },
        "id": "ujIvBZ4VKXNI",
        "outputId": "66c55cbe-50ec-4af0-f209-9a356cd902c8"
      },
      "execution_count": null,
      "outputs": [
        {
          "name": "stdout",
          "output_type": "stream",
          "text": [
            "Digite um valor: 12.3\n"
          ]
        }
      ]
    }
  ]
}